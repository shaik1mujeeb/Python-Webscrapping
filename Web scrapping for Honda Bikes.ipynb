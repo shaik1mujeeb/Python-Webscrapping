{
 "cells": [
  {
   "cell_type": "code",
   "execution_count": 1,
   "metadata": {},
   "outputs": [],
   "source": [
    "from bs4 import BeautifulSoup as soup\n",
    "from urllib.request import urlopen as uReq  #urlopen imports all the dependencies\n",
    "#request  allows you to send HTTP/1.1 requests extremely easily"
   ]
  },
  {
   "cell_type": "code",
   "execution_count": 2,
   "metadata": {},
   "outputs": [],
   "source": [
    "url=\"https://www.zigwheels.com/newbikes/Honda\""
   ]
  },
  {
   "cell_type": "code",
   "execution_count": 3,
   "metadata": {},
   "outputs": [
    {
     "name": "stdout",
     "output_type": "stream",
     "text": [
      "<http.client.HTTPResponse object at 0x0000000005F44D88>\n"
     ]
    }
   ],
   "source": [
    "load=uReq(url) # It will grab the webpage and directly load it\n",
    "print(load)\n",
    "page_html=load.read() #read is a function to dump the data that is gathered\n",
    "load.close()  #closing the connection\n",
    "# You need to parse it because it's a large HTML file.\n",
    "page_soup=soup(page_html, \"html.parser\")"
   ]
  },
  {
   "cell_type": "code",
   "execution_count": 4,
   "metadata": {},
   "outputs": [
    {
     "name": "stdout",
     "output_type": "stream",
     "text": [
      "20\n"
     ]
    }
   ],
   "source": [
    "containers=page_soup.findAll(\"div\", {\"class\":\"zw-con p-0\"})\n",
    "print(len(containers))"
   ]
  },
  {
   "cell_type": "code",
   "execution_count": 5,
   "metadata": {},
   "outputs": [
    {
     "name": "stdout",
     "output_type": "stream",
     "text": [
      "<div class=\"zw-con p-0\">\n",
      " <meta content=\"1\" itemprop=\"position\"/>\n",
      " <meta content=\"https://media.zigcdn.com/media/model/2019/Sep/activa-5g-right-side-view_360x240.jpg\" itemprop=\"image\"/>\n",
      " <div class=\"clr mk-img-h\">\n",
      "  <img alt=\"Honda Activa 5G\" class=\"lazy_image i-b c-p\" data-track-label=\"launched-model-image\" onclick=\"goToUrl('https://www.zigwheels.com/newbikes/Honda/activa-5g')\" src=\"https://media.zigcdn.com/media/model/2019/Sep/activa-5g-right-side-view_360x240.jpg\" title=\"Honda Activa 5G\"/>\n",
      " </div>\n",
      " <div class=\"p-15 mt-negative\">\n",
      "  <a data-track-label=\"launched-model-name\" href=\"https://www.zigwheels.com/newbikes/Honda/activa-5g\" itemprop=\"url\" title=\"Honda Activa 5G\">\n",
      "   <strong class=\"lnk-hvr block of-hid h-height\" itemprop=\"name\">\n",
      "    Honda Activa 5G\n",
      "   </strong>\n",
      "  </a>\n",
      "  <div class=\"clr-bl p-5\" title=\"Honda Activa 5G Ex-Showroom Price\">\n",
      "   Rs. 55,934 onwards\n",
      "  </div>\n",
      "  <div class=\"r-height\">\n",
      "   <a href=\"/user-reviews/Honda/activa-5g\" title=\"Honda Activa 5G user reviews and ratings\">\n",
      "    <div class=\"r-w fnt-12 rel i-b mr-5 rt-lg\">\n",
      "     3.9\n",
      "    </div>\n",
      "    <div class=\"i-b fnt-12 clr-try\">\n",
      "     (1661 reviews &amp; ratings)\n",
      "    </div>\n",
      "   </a>\n",
      "  </div>\n",
      "  <div class=\"clr-try fnt-14 pb-10 h-height of-hid\">\n",
      "   109.19 cc | 60 kmpl | Petrol\n",
      "  </div>\n",
      "  <span class=\"bd-open-form btn-s ani m-wdt-100 mt-10\" data-bd-modelid=\"15\" data-bd-pagetype=\"make\" data-track-label=\"emi-button-Delhi\" title=\"Check Loan Offers on Activa 5G\">\n",
      "   Get Loan starting @9.7%\n",
      "  </span>\n",
      " </div>\n",
      "</div>\n",
      "\n"
     ]
    }
   ],
   "source": [
    "print(soup.prettify(containers[0])) # Prettify functon brings the html to a structured format\n",
    "#From here we can pull out the things we need to scarape"
   ]
  },
  {
   "cell_type": "code",
   "execution_count": 6,
   "metadata": {},
   "outputs": [
    {
     "name": "stdout",
     "output_type": "stream",
     "text": [
      "Honda Activa 5G\n"
     ]
    }
   ],
   "source": [
    "container=containers[0]\n",
    "print(container.div.img[\"alt\"])"
   ]
  },
  {
   "cell_type": "code",
   "execution_count": 7,
   "metadata": {},
   "outputs": [
    {
     "name": "stdout",
     "output_type": "stream",
     "text": [
      "Rs. 55,934 onwards\n"
     ]
    }
   ],
   "source": [
    "price=container.findAll(\"div\",{\"class\":\"clr-bl p-5\"})\n",
    "print(price[0].text)"
   ]
  },
  {
   "cell_type": "code",
   "execution_count": 8,
   "metadata": {},
   "outputs": [
    {
     "name": "stdout",
     "output_type": "stream",
     "text": [
      "109.19 cc | 60 kmpl | Petrol\n"
     ]
    }
   ],
   "source": [
    "mileage=container.findAll(\"div\",{\"class\":\"clr-try fnt-14 pb-10 h-height of-hid\"})\n",
    "print(mileage[0].text)"
   ]
  },
  {
   "cell_type": "code",
   "execution_count": 9,
   "metadata": {},
   "outputs": [
    {
     "name": "stdout",
     "output_type": "stream",
     "text": [
      "Honda Activa 5G\n",
      "Rs. 55,934 onwards\n",
      "109.19 cc | 60 kmpl | Petrol\n"
     ]
    }
   ],
   "source": [
    "print(container.div.img[\"alt\"])\n",
    "print(price[0].text)\n",
    "print(mileage[0].text)"
   ]
  },
  {
   "cell_type": "code",
   "execution_count": 35,
   "metadata": {
    "scrolled": true
   },
   "outputs": [
    {
     "name": "stdout",
     "output_type": "stream",
     "text": [
      "Honda Activa 5G,Rs. 55934 ,109.19 cc  60 kmpl  \n",
      "\n",
      "Honda Shine,Rs. 64650 ,124.73 cc  65 kmpl  \n",
      "\n",
      "Honda Dio,Rs. 63340 ,109.19 cc  55 kmpl  \n",
      "\n",
      "Honda Activa 6G,Rs. 64464 ,109.51 cc  \n",
      "\n",
      "Honda Activa 125,Rs. 61650 ,124 cc  60 kmpl  \n",
      "\n",
      "Honda Activa 125 BS6,Rs. 68042 ,124 cc  60 kmpl  \n",
      "\n",
      "Honda CB Hornet 160R,Rs. 86500 ,162.71 cc  43 kmpl  \n",
      "\n",
      "Honda SP 125,Rs. 73452 ,124 cc  \n",
      "\n",
      "Honda XBlade,Rs. 80325 ,162.71 cc  \n",
      "\n",
      "Honda CBR650R,Rs. 7.70 lakh ,648.72 cc  \n",
      "\n",
      "Honda CB Unicorn 160,Rs. 78332 ,162.71 cc  62 kmpl  \n",
      "\n",
      "Honda Dio BS6,Rs. 59990 ,109.51 cc  \n",
      "\n",
      "Honda Shine BS6,Rs. 67857 ,124 cc  \n",
      "\n",
      "Honda Unicorn BS6,Rs. 93593 ,162.7 cc  \n",
      "\n",
      "Honda Grazia,Rs. 62025 ,124.9 cc  60 kmpl  \n",
      "\n",
      "Honda CB300R,Rs. 2.42 lakh ,286.01 cc  38 kmpl  \n",
      "\n",
      "Honda Gold Wing,Rs. 27.77 lakh ,1833 cc  \n",
      "\n",
      "Honda CBR300R,Rs. 3.00 lakh ,286 cc  \n",
      "\n",
      "Honda CB1000R Plus,Rs. 14.46 lakh ,998 cc  \n",
      "\n",
      "Honda CRF1100L Africa Twin,Rs. 15.35 lakh ,1084 cc  \n",
      "\n"
     ]
    }
   ],
   "source": [
    "filename=\"Honda.csv\"\n",
    "f=open(filename, \"w\")\n",
    "headers=\"model,price,mileage\\n\"\n",
    "f.write(headers)\n",
    "for container in containers:\n",
    "    model=container.div.img[\"alt\"]\n",
    "    price=container.findAll(\"div\",{\"class\":\"clr-bl p-5\"})\n",
    "    price=price[0].text.strip()\n",
    "    mileage=container.findAll(\"div\",{\"class\":\"clr-try fnt-14 pb-10 h-height of-hid\"})\n",
    "    mileage=mileage[0].text\n",
    "    \n",
    "    #print(\"model:\" + model)\n",
    "    #print(\"price:\" + price)\n",
    "    #print(\"mileage:\" + mileage)\n",
    "    \n",
    "    \n",
    "    trim_price=\"\".join(price.split(\",\"))\n",
    "    split_price=trim_price.split(\"o\")\n",
    "    price=split_price[0]\n",
    "    \n",
    "    trim_mileage=\"\".join(mileage.split(\"|\"))\n",
    "    #print(trim_mileage)  # It shows without \"|\"\n",
    "    split_mileage=trim_mileage.split(\"P\")\n",
    "    #print(split_mileage)\n",
    "    mileage=split_mileage[0]\n",
    "    #print(mileage)\n",
    "    #print(price)\n",
    "    print(model.replace(\",\", \"|\")+ \",\" +price+\",\" +mileage+\"\\n\")\n",
    "    f.write(model.replace(\",\", \"|\")+ \",\" +price+\",\" +mileage +\"\\n\")\n",
    "f.close()"
   ]
  },
  {
   "cell_type": "code",
   "execution_count": null,
   "metadata": {},
   "outputs": [],
   "source": []
  }
 ],
 "metadata": {
  "kernelspec": {
   "display_name": "Python 3",
   "language": "python",
   "name": "python3"
  },
  "language_info": {
   "codemirror_mode": {
    "name": "ipython",
    "version": 3
   },
   "file_extension": ".py",
   "mimetype": "text/x-python",
   "name": "python",
   "nbconvert_exporter": "python",
   "pygments_lexer": "ipython3",
   "version": "3.7.4"
  }
 },
 "nbformat": 4,
 "nbformat_minor": 2
}
